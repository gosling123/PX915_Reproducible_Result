{
 "cells": [
  {
   "cell_type": "markdown",
   "metadata": {},
   "source": [
    "# PX915 Individual Project Reproducible Result - Ben Gosling"
   ]
  },
  {
   "cell_type": "markdown",
   "metadata": {},
   "source": [
    "#### Import Modules for Plasma Parameter Calculation and GP regression"
   ]
  },
  {
   "cell_type": "code",
   "execution_count": 1,
   "metadata": {},
   "outputs": [],
   "source": [
    "# import epoch calculators\n",
    "from Reflectivity_scripts.plasma_calc import * # stores class that calculates basic plasma paramters \n",
    "from Reflectivity_scripts.fields_calc import * # stores class that calculates field pramteres such as refelctivity \n",
    "from Reflectivity_scripts.run_epoch import * # stores functions which aid in the running of epoch simulations\n",
    "from Reflectivity_scripts.sim_setup import * # stores functions which aid in the creation of setting up epoch runs\n",
    "\n",
    "# Gaussian process regression scripts\n",
    "from GP_scripts.gp import * # stores functions for performing GP regression for 1D input space"
   ]
  },
  {
   "cell_type": "markdown",
   "metadata": {},
   "source": [
    "EPOCH requires you to specify an output directory which stores the input file to set up the simulation and store the output files. The python function below is used to create a directory within epoch_surra and populate it with one of the example input decks in the input_decks directory. "
   ]
  },
  {
   "cell_type": "code",
   "execution_count": 2,
   "metadata": {},
   "outputs": [],
   "source": [
    "# set name of the output directory\n",
    "dir = 'Data_epoch'\n",
    "sub_dirs = [f'Data_{i}' for i in range(1, 11)]\n",
    "# input file/setup used throughout the report\n",
    "input_file = 'example_input.deck'\n",
    "# set initial laser intensity in W/cm^2 (varies between 1e14 - 1e16 in the report)\n",
    "intensity = 1e16 # set initial laser intensity in W/cm^2 \n",
    "# set density scale length in m (varies between 300e-6 - 100e-6 in the report) \n",
    "dens_scale_len = 500e-6 \n",
    "# set the number of particles per cell (set to 2048 in the report)\n",
    "# set to 100 to save time\n",
    "ppc = 100\n"
   ]
  },
  {
   "cell_type": "code",
   "execution_count": 3,
   "metadata": {},
   "outputs": [
    {
     "name": "stdout",
     "output_type": "stream",
     "text": [
      "created directory Data_epoch/Data_1 and input.deck\n",
      "Data_epoch directory already exists\n",
      "created directory Data_epoch/Data_2 and input.deck\n",
      "Data_epoch directory already exists\n",
      "created directory Data_epoch/Data_3 and input.deck\n",
      "Data_epoch directory already exists\n",
      "created directory Data_epoch/Data_4 and input.deck\n",
      "Data_epoch directory already exists\n",
      "created directory Data_epoch/Data_5 and input.deck\n",
      "Data_epoch directory already exists\n",
      "created directory Data_epoch/Data_6 and input.deck\n",
      "Data_epoch directory already exists\n",
      "created directory Data_epoch/Data_7 and input.deck\n",
      "Data_epoch directory already exists\n",
      "created directory Data_epoch/Data_8 and input.deck\n",
      "Data_epoch directory already exists\n",
      "created directory Data_epoch/Data_9 and input.deck\n",
      "Data_epoch directory already exists\n",
      "created directory Data_epoch/Data_10 and input.deck\n"
     ]
    }
   ],
   "source": [
    "for i in range(len(sub_dirs)):\n",
    "    epoch_sim_sub_dir(dir = dir, sub_dir= sub_dirs[i], input_file = input_file, I = intensity, Ln = dens_scale_len, ppc = ppc)"
   ]
  },
  {
   "cell_type": "code",
   "execution_count": null,
   "metadata": {},
   "outputs": [],
   "source": []
  }
 ],
 "metadata": {
  "kernelspec": {
   "display_name": "Python 3.8.10 64-bit",
   "language": "python",
   "name": "python3"
  },
  "language_info": {
   "codemirror_mode": {
    "name": "ipython",
    "version": 3
   },
   "file_extension": ".py",
   "mimetype": "text/x-python",
   "name": "python",
   "nbconvert_exporter": "python",
   "pygments_lexer": "ipython3",
   "version": "3.8.10"
  },
  "orig_nbformat": 4,
  "vscode": {
   "interpreter": {
    "hash": "e7370f93d1d0cde622a1f8e1c04877d8463912d04d973331ad4851f04de6915a"
   }
  }
 },
 "nbformat": 4,
 "nbformat_minor": 2
}
